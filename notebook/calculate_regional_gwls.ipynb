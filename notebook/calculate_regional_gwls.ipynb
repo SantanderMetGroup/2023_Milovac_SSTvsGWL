{
 "cells": [
  {
   "cell_type": "markdown",
   "id": "222231a4-5be0-4926-ad0f-5f16bcab42db",
   "metadata": {},
   "source": [
    "# Regional mean differences and GWLs\n",
    "\n",
    "This notebook calculates regional mean differences of SST and STAS with respect to global mean temperature, and GWL for each of the 26 global climate model"
   ]
  },
  {
   "cell_type": "markdown",
   "id": "0407df3a-d212-42e0-8a4a-e7d8f1caf15e",
   "metadata": {},
   "source": [
    "Loading libraires:"
   ]
  },
  {
   "cell_type": "code",
   "execution_count": 1,
   "id": "886027ae-56fe-487d-9f02-d57acd57a78d",
   "metadata": {
    "tags": []
   },
   "outputs": [],
   "source": [
    "import netCDF4 as nc\n",
    "import numpy as np\n",
    "import numpy.ma as ma\n",
    "import matplotlib.pyplot as plt\n",
    "from scipy import signal\n",
    "import warnings\n",
    "import os\n",
    "import sys"
   ]
  },
  {
   "cell_type": "markdown",
   "id": "c7f93f39-952a-435f-8799-6d1a5a259f97",
   "metadata": {
    "tags": []
   },
   "source": [
    "Ignore warnings:"
   ]
  },
  {
   "cell_type": "code",
   "execution_count": 2,
   "id": "4c838d9c-29fc-4d99-b0ef-77a67b3f8ccc",
   "metadata": {
    "tags": []
   },
   "outputs": [],
   "source": [
    "warnings.filterwarnings(\"ignore\", category=DeprecationWarning) \n",
    "warnings.simplefilter(\"ignore\", category=RuntimeWarning)"
   ]
  },
  {
   "cell_type": "markdown",
   "id": "56d82bd0-a88f-4b95-8145-acc42f63430d",
   "metadata": {},
   "source": [
    "Define enviromental variables and paths:"
   ]
  },
  {
   "cell_type": "code",
   "execution_count": 3,
   "id": "01f168a0-15db-48c5-915b-3fcfefd506d7",
   "metadata": {
    "tags": []
   },
   "outputs": [],
   "source": [
    "season = 'SON' \n",
    "resolution = 'low_res'\n",
    "mask_file    = 'ipcc_regions_05.nc' \n",
    "member_names = f'models_{resolution}.txt' \n",
    "varname      = 'tos'\n",
    "ssps         = ['ssp126', 'ssp245', 'ssp370', 'ssp585']\n",
    "avg_period   = 10 # years\n",
    "ref_ntimes   = 51 # not including years from 1900-1950\n",
    "ystart_to_plot  = 2010\n",
    "\n",
    "root = '..'\n",
    "path2info  = f'{root}/data/data_info/'\n",
    "path2data  = f'{root}/data/data_raw/{resolution}/{varname}/'  \n",
    "path2mask  = f'{root}/data/masks/'"
   ]
  },
  {
   "cell_type": "markdown",
   "id": "3a8497d4-83bb-4ae1-9a8c-31d2ad19a8ed",
   "metadata": {},
   "source": [
    "Define functions"
   ]
  },
  {
   "cell_type": "code",
   "execution_count": 4,
   "id": "9883c0c0-0e19-42f1-b784-579ecb3de95c",
   "metadata": {
    "tags": []
   },
   "outputs": [],
   "source": [
    "def read_txt(fname, ncolumns):\n",
    "    if ncolumns > 1:\n",
    "        fdata   = open(fname)\n",
    "        flines  = np.array(fdata.readlines())\n",
    "        data_in = np.empty([len(flines), ncolumns])\n",
    "        for i in np.arange(len(flines)):\n",
    "            data_in[i,:]=flines[i].split()\n",
    "    else:\n",
    "        with open(fname) as flist:\n",
    "            data_in = np.array(flist.readlines())        \n",
    "    return(data_in)\n",
    "    fdata.close()\n",
    "\n",
    "def read_nc(fname, varname, ifmerged):\n",
    "    if ifmerged:\n",
    "        f  = nc.MFDataset(fname)\n",
    "    else:\n",
    "        f  = nc.Dataset(fname)\n",
    "    var    = f.variables[varname]\n",
    "    lon    = f.variables['lon']\n",
    "    lat    = f.variables['lat']\n",
    "    time   = f.variables['time']\n",
    "    dates  = nc.num2date(time[:], time.units, time.calendar)\n",
    "    return var, lon, lat, time, dates\n",
    "\n",
    "def read_mask(fname, varname):\n",
    "    f = nc.Dataset(fname)\n",
    "    var  = f.variables[varname][:]\n",
    "    return var\n",
    "\n",
    "def robust(mean_hist, mean_future, avg_period):\n",
    "    mean_hist_detrend = signal.detrend(mean_hist)\n",
    "    treshold = np.sqrt(2)*1.645*mean_hist_detrend.std()/np.sqrt(avg_period)\n",
    "    if abs(mean_future) > treshold:\n",
    "        data_robust = 1\n",
    "    else:\n",
    "        data_robust = 0\n",
    "    return data_robust"
   ]
  },
  {
   "cell_type": "code",
   "execution_count": 5,
   "id": "e2b34c7e-aca9-4645-ba98-99b248eefadf",
   "metadata": {
    "tags": []
   },
   "outputs": [],
   "source": [
    "member_list = f'{path2info}/{member_names}'\n",
    "members  = read_txt(member_list, 1)\n",
    "nmembers = len(members)"
   ]
  },
  {
   "cell_type": "markdown",
   "id": "03fda0c0-37a6-4d02-a32b-7dbe1d0c4d71",
   "metadata": {},
   "source": [
    "Define the mask variable for corresponding masks, and load the mask:"
   ]
  },
  {
   "cell_type": "code",
   "execution_count": 6,
   "id": "14f77b5a-6f37-4b6f-a89d-44acfc7a6f23",
   "metadata": {
    "tags": []
   },
   "outputs": [],
   "source": [
    "if mask_file == 'biomes_mask_05.nc':\n",
    "    maskvar = 'sftlf'\n",
    "    mask_values  = [0,1,2,3,4,5,6,7,8,9,10]         \n",
    "    outdirname = 'biomes_regs'   \n",
    "elif mask_file == 'ipcc_regions_05.nc':\n",
    "    maskvar = 'regionID'\n",
    "    mask_values  = [20,47,48,49,50,51,52,53,54,55,56,57,58]      \n",
    "    outdirname = 'ipcc_regs'    \n",
    "nregions = len(mask_values)\n",
    "\n",
    "fmask= f'{path2mask}/{mask_file}'\n",
    "maskara = read_mask(fmask, maskvar)\n",
    "if fmask!='ipcc_regions_05.nc':\n",
    "    region_ID = np.flipud(maskara)"
   ]
  },
  {
   "cell_type": "markdown",
   "id": "6050871e-4e7b-44cc-ad06-1cf7cbb16044",
   "metadata": {
    "tags": []
   },
   "source": [
    "Output folder: "
   ]
  },
  {
   "cell_type": "code",
   "execution_count": 7,
   "id": "f106e17f-7190-4293-834d-34860684e9ad",
   "metadata": {
    "tags": []
   },
   "outputs": [],
   "source": [
    "path2out  = f'{root}/data/data_txt/{resolution}/regional/{outdirname}/{varname}/{season}/'\n",
    "if not os.path.exists(path2out):\n",
    "    os.makedirs(path2out)"
   ]
  },
  {
   "cell_type": "markdown",
   "id": "db649c1e-11f2-4f6e-aa1c-bf062bcd0330",
   "metadata": {
    "tags": []
   },
   "source": [
    "Read the list of the models to be processed:"
   ]
  },
  {
   "cell_type": "code",
   "execution_count": null,
   "id": "b91888d7-49b8-42c9-ae53-b1995e78d9fc",
   "metadata": {
    "tags": []
   },
   "outputs": [],
   "source": [
    "# Loop over seasons\n",
    "for ssp in ssps:\n",
    "    print(\"Working on the ssp: \" + ssp)\n",
    "    \n",
    "    fname = [f'{path2data}/CMIP6_historical_{varname}_{season}.nc',\n",
    "             f'{path2data}/CMIP6_{ssp}_{varname}_{season}.nc']\n",
    "\n",
    "    var, lon, lat, time, dates = read_nc(fname, varname, True)\n",
    "\n",
    "    # Define n dimensions\n",
    "    nlats  = len(lat)\n",
    "    nlons  = len(lon)\n",
    "    ntimes = len(dates)\n",
    "\n",
    "    # Read years\n",
    "    years =np.empty(ntimes)\n",
    "    for i in range(len(dates)): years[i]=dates[i].year \n",
    "\n",
    "    # Calculate weights\n",
    "    xx, yy  = np.meshgrid(lon, lat)\n",
    "    weights = np.cos(np.deg2rad(yy))\n",
    "\n",
    "    # Allocate arrays\n",
    "    run_ntimes = int(ntimes - avg_period - ref_ntimes + 1)\n",
    "    delta_mean = np.empty([run_ntimes, nmembers, nlats, nlons])\n",
    "    mask_4D    = np.empty(delta_mean.shape, dtype=bool)\n",
    "\n",
    "    # Calculate mean for the reference period\n",
    "    ref_data = var[0:ref_ntimes,:,:,:]\n",
    "    ref_mean = np.nanmean(ref_data,axis=(0))\n",
    "    mask_ref = np.empty(ref_data.shape, dtype=bool)\n",
    "\n",
    "    # Calculate mean anomaly with respect to the reference period\n",
    "    for t in np.arange(0, run_ntimes):\n",
    "        it = t + ref_ntimes\n",
    "        delta_mean[t,:,:,:] = np.nanmean(var[it:(it + avg_period-1), :, :, :], axis=(0)) - ref_mean\n",
    "\n",
    "    # Masking regions\n",
    "    for k in range(nregions):\n",
    "        print(\"        Working on the region: \" + str(mask_values[k])) \n",
    "        mask_value  = mask_values[k]\n",
    "        mask_2D     = region_ID[:].data != mask_value\n",
    "\n",
    "        # Masking weights\n",
    "        masked_weights = ma.masked_array(weights, mask_2D) \n",
    "\n",
    "        # Creating 4D mask to mask 4D var\n",
    "        for i in range(ref_ntimes):\n",
    "            for j in range(nmembers):\n",
    "                mask_ref[i,j,:,:] = mask_2D\n",
    "\n",
    "        for i in range(run_ntimes):  \n",
    "            for j in range(nmembers):\n",
    "                mask_4D[i,j,:,:]  = mask_2D\n",
    "\n",
    "        # Masking mean anomaly\n",
    "        masked_ref_data = ma.masked_array(ref_data, mask_ref)\n",
    "        masked_data     = ma.masked_array(delta_mean, mask_4D) \n",
    "\n",
    "        # Weighted mean anomaly\n",
    "        delta_wght  = masked_data*masked_weights/np.nanmean(masked_weights)\n",
    "        ref_wght    = masked_ref_data*masked_weights/np.nanmean(masked_weights)\n",
    "\n",
    "        # Calculating spatial mean anomaly\n",
    "        mean_delta_2D  = np.round(np.nanmean(delta_wght, axis=(2,3)),3)\n",
    "        mean_reference = np.round(np.nanmean(ref_wght, axis=(2,3)),3)\n",
    "\n",
    "        # Check if the signal is robust\n",
    "        ifrobust = np.empty([run_ntimes])\n",
    "        robustness = np.empty([run_ntimes, nmembers])\n",
    "\n",
    "        for i in range(run_ntimes):\n",
    "            plus  = 100.*float(np.count_nonzero(mean_delta_2D[i,:] >= 0))/float(nmembers)\n",
    "            minus = 100.*float(np.count_nonzero(mean_delta_2D[i,:] < 0))/float(nmembers)              \n",
    "\n",
    "            for j in range(nmembers):\n",
    "                robustness[i,j]=robust(mean_reference[:,j], mean_delta_2D[i,j], avg_period)\n",
    "\n",
    "            if (100.*float(np.count_nonzero(robustness[i,:] == 1.))/float(nmembers)) >= 66. and max(plus,minus) >= 80.:\n",
    "                ifrobust[i]=1.\n",
    "            elif (100.*float(np.count_nonzero(robustness[i,:] == 1.))/float(nmembers)) >= 66. and max(plus,minus) < 80.:\n",
    "                ifrobust[i]=2.\n",
    "            else:\n",
    "                ifrobust[i]=0.                        \n",
    "\n",
    "\n",
    "        # Save the regional mean difference in a txt file            \n",
    "        output_name = f'{varname}_{ssp}_reg{mask_value}_{season}'\n",
    "        print(\"        Saving output to: \" + output_name)\n",
    "        np.savetxt(path2out + output_name + '.csv', mean_delta_2D, fmt='%10.3f')            \n",
    "        np.savetxt(path2out + 'ifrobust_' + output_name + '.csv', ifrobust, fmt='%10.3f')"
   ]
  },
  {
   "cell_type": "code",
   "execution_count": null,
   "id": "068da6eb-8368-452d-8baa-d8911f3d841c",
   "metadata": {},
   "outputs": [],
   "source": []
  }
 ],
 "metadata": {
  "kernelspec": {
   "display_name": "Python 3 (ipykernel)",
   "language": "python",
   "name": "python3"
  },
  "language_info": {
   "codemirror_mode": {
    "name": "ipython",
    "version": 3
   },
   "file_extension": ".py",
   "mimetype": "text/x-python",
   "name": "python",
   "nbconvert_exporter": "python",
   "pygments_lexer": "ipython3",
   "version": "3.10.9"
  }
 },
 "nbformat": 4,
 "nbformat_minor": 5
}
