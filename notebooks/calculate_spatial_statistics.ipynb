{
 "cells": [
  {
   "cell_type": "markdown",
   "id": "37378409-fa04-40dd-af6d-8576d82a4590",
   "metadata": {},
   "source": [
    "# Spatial correlation statistics (per grid) for low and high resolution models"
   ]
  },
  {
   "cell_type": "markdown",
   "id": "7d41867b-3bfd-4b7e-911a-571a41594ee1",
   "metadata": {},
   "source": [
    "This notebook calculates slope, p value, standard deviation of the slope, and correlation coefficients for the linear and exponential fit per each grid cell for the spatial analysis."
   ]
  },
  {
   "cell_type": "markdown",
   "id": "07f8134a-faa0-45a6-a806-9c50415cddff",
   "metadata": {},
   "source": [
    "Loading libraires:"
   ]
  },
  {
   "cell_type": "code",
   "execution_count": 7,
   "id": "dab6e442-97c2-424d-8402-4e6ca34f57a3",
   "metadata": {
    "tags": []
   },
   "outputs": [],
   "source": [
    "import netCDF4 as nc\n",
    "import numpy as np\n",
    "import matplotlib.pyplot as plt\n",
    "from sklearn import linear_model\n",
    "from scipy import stats\n",
    "import warnings\n",
    "import os\n",
    "import sys"
   ]
  },
  {
   "cell_type": "markdown",
   "id": "6c9602fe-8d57-43cb-94f1-e1555d105b54",
   "metadata": {},
   "source": [
    "Ignore warnings:"
   ]
  },
  {
   "cell_type": "code",
   "execution_count": 8,
   "id": "45b81f83-a2d3-4c1a-bb07-d1ed6d1f4acb",
   "metadata": {
    "tags": []
   },
   "outputs": [],
   "source": [
    "warnings.filterwarnings(\"ignore\", category=DeprecationWarning) \n",
    "warnings.simplefilter(\"ignore\", category=RuntimeWarning)"
   ]
  },
  {
   "cell_type": "markdown",
   "id": "568079b3-2619-444c-9cde-f57d586b9dba",
   "metadata": {
    "tags": []
   },
   "source": [
    "Define functions:"
   ]
  },
  {
   "cell_type": "code",
   "execution_count": 9,
   "id": "1238f341-2394-4cc8-b965-7979742f33a4",
   "metadata": {
    "tags": []
   },
   "outputs": [],
   "source": [
    "def read_txt(fname, ncolumns, dtype):\n",
    "    fdata   = open(fname)\n",
    "    flines  = np.array(fdata.readlines())\n",
    "    data_in = np.empty([len(flines)])\n",
    "    if dtype == 'string':\n",
    "        data_in = np.empty([len(flines)], dtype=object)\n",
    "    for i in np.arange(len(flines)):\n",
    "        data_in[i]=flines[i].split()[ncolumns-1]      \n",
    "    return(data_in)\n",
    "    fdata.close()\n",
    "    \n",
    "# Define functions\n",
    "def read_data(fname, ncolumns):\n",
    "    if ncolumns > 1:\n",
    "        fdata   = open(fname)\n",
    "        flines  = np.array(fdata.readlines())\n",
    "        data_in = np.empty([len(flines), ncolumns])\n",
    "        for i in np.arange(len(flines)):\n",
    "            data_in[i,:]=flines[i].split()\n",
    "    else:\n",
    "        with open(fname) as flist:\n",
    "            data_in = np.array(flist.readlines())        \n",
    "    return(data_in)\n",
    "    fdata.close()\n",
    "\n",
    "def read_nc(fname, varname, ifmerged):\n",
    "    if ifmerged:\n",
    "        f  = nc.MFDataset(fname)\n",
    "    else:\n",
    "        f  = nc.Dataset(fname)\n",
    "    var    = f.variables[varname]\n",
    "    lon    = f.variables['lon']\n",
    "    lat    = f.variables['lat']\n",
    "    time   = f.variables['time']\n",
    "    dates  = nc.num2date(time[:], time.units, time.calendar)\n",
    "    return var, lon, lat, time, dates\n",
    "\n",
    "def read_mask(fname, varname):\n",
    "    f = nc.Dataset(fname)\n",
    "    var  = f.variables[varname][:]\n",
    "    return var"
   ]
  },
  {
   "cell_type": "markdown",
   "id": "f9b9b4e8-3151-47b4-a473-56e26909a80d",
   "metadata": {},
   "source": [
    "Define paths and enviromental variables:"
   ]
  },
  {
   "cell_type": "code",
   "execution_count": 10,
   "id": "268d2ede-cf39-4dd2-8551-6d78cd323f86",
   "metadata": {
    "tags": []
   },
   "outputs": [],
   "source": [
    "resolution = 'high_res'\n",
    "seasons = ['ANNUAL', 'DJF', 'MAM', 'JJA', 'SON'] #'SON' #'SON' #None #\n",
    "varname = 'tos'\n",
    "avg_period = 10 # years\n",
    "ssps = ['ssp585']\n",
    "nssps = len(ssps)\n",
    "gwls = [1.5, 2, 3, 4]\n",
    "ref_ntimes = 51\n",
    "ystart_to_plot  = 2010\n",
    "ystart = int(ystart_to_plot - 1950)\n",
    "\n",
    "if resolution=='high_res':\n",
    "    gcm='CNRM-CM6-1'   # or'CNRM-CM6-1'\n",
    "    column = 9         # 9 (CNRM-CM6-1), 10 (CNRM-CM6-1-HR)\n",
    "\n",
    "root = '..'\n",
    "path2info  = f'{root}/data/data_info/'\n",
    "member_names = f'models_low_res.txt'"
   ]
  },
  {
   "cell_type": "markdown",
   "id": "6e44ed89-6bae-4379-9bb0-7ac30ee592ef",
   "metadata": {},
   "source": [
    "Read list of the model to be processed"
   ]
  },
  {
   "cell_type": "code",
   "execution_count": 5,
   "id": "b7ed6556-7eef-48c3-89ad-cd570da92849",
   "metadata": {
    "tags": []
   },
   "outputs": [],
   "source": [
    "member_list = f'{path2info}/{member_names}'\n",
    "members  = read_txt(member_list, 1, 'string')\n",
    "nmembers = len(members)"
   ]
  },
  {
   "cell_type": "code",
   "execution_count": null,
   "id": "69f31de9-a0df-44ad-9fa5-98adb1d5ce0f",
   "metadata": {},
   "outputs": [],
   "source": [
    "# Loop over seasons\n",
    "for season in seasons:\n",
    "    print(f'Working on the season: {season}') \n",
    "    \n",
    "    #if resolution=='high_res':\n",
    "    #    path2data = f'{root}/data/data_raw/{resolution}/{gcm}/{varname}/'\n",
    "    #elif resolution=='low_res':\n",
    "    #    path2data = f'{root}/data/data_raw/{resolution}/{varname}/{season}/'\n",
    "        \n",
    "    path2data = f'{root}/data/data_raw/{resolution}/{varname}/'\n",
    "    path2out  = f'{root}/data/data_txt/{resolution}/spatial/{varname}/{season}'\n",
    "    \n",
    "    if not os.path.exists(path2out):\n",
    "        os.makedirs(path2out)        \n",
    "\n",
    "    for ssp in ssps:\n",
    "        print(\"    Working on the ssp: \" + ssp)\n",
    "\n",
    "        # Load reference data\n",
    "        gwl_fname = f'{root}/data/data_txt/low_res/global/tas/tas_{ssp}_ANNUAL.csv'\n",
    "        gwl_data  = read_data(gwl_fname, nmembers)\n",
    "\n",
    "        # Load model reference data\n",
    "        if resolution=='high_res':\n",
    "            fname = [f'{path2data}/{varname}_{gcm}_historical_{season}.nc',\n",
    "                     f'{path2data}/{varname}_{gcm}_{ssp}_{season}.nc']\n",
    "        elif resolution=='low_res':\n",
    "            fname = [f'{path2data}/CMIP6_historical_{varname}_{season}.nc',\n",
    "                     f'{path2data}/CMIP6_{ssp}_{varname}_{season}.nc']\n",
    "\n",
    "        var, lon, lat, time, dates = read_nc(fname, varname, True)           \n",
    "\n",
    "        # Define dimensions\n",
    "        nlats  = len(lat)\n",
    "        nlons  = len(lon)\n",
    "        ntimes = len(dates)\n",
    "\n",
    "        # Read years\n",
    "        years =np.empty(ntimes)\n",
    "        for i in range(len(dates)): years[i]=dates[i].year \n",
    "\n",
    "        # Allocate arrays\n",
    "        run_ntimes = int(ntimes - avg_period - ref_ntimes + 1)\n",
    "\n",
    "        if resolution=='low_res':\n",
    "            delta_mean = np.empty([run_ntimes, nmembers, nlats, nlons])\n",
    "            mask_4D    = np.empty(delta_mean.shape, dtype=bool)\n",
    "\n",
    "            # Calculate mean for the reference period\n",
    "            ref_data = var[0:ref_ntimes,:,:,:]\n",
    "            ref_mean = np.nanmean(ref_data,axis=(0))\n",
    "            mask_ref = np.empty(ref_data.shape, dtype=bool)\n",
    "\n",
    "            # Calculate mean anomaly with respect to the reference period\n",
    "            for t in np.arange(0, run_ntimes):\n",
    "                it = t + ref_ntimes\n",
    "                delta_mean[t,:,:,:] = np.nanmean(var[it:(it + avg_period-1), :, :, :], axis=(0))-ref_mean \n",
    "\n",
    "        elif resolution=='high_res':                   \n",
    "            delta_mean = np.empty([run_ntimes, nlats, nlons])\n",
    "            mask_4D    = np.empty(delta_mean.shape, dtype=bool)\n",
    "\n",
    "            # Calculate mean for the reference period\n",
    "            ref_data = var[0:ref_ntimes,:,:]\n",
    "            ref_mean = np.nanmean(ref_data,axis=(0))\n",
    "            mask_ref = np.empty(ref_data.shape, dtype=bool)\n",
    "\n",
    "            # Calculate mean anomaly with respect to the reference period\n",
    "            for t in np.arange(0, run_ntimes):\n",
    "                it = t + ref_ntimes\n",
    "                delta_mean[t,:,:] = np.nanmean(var[it:(it + avg_period-1), :, :], axis=(0))-ref_mean \n",
    "\n",
    "        # Allocate statistical variables\n",
    "        Beta      = np.empty((len(lat),len(lon)),dtype=float)\n",
    "        R2_lin    = np.empty((len(lat),len(lon)),dtype=float)\n",
    "        p_value   = np.empty((len(lat),len(lon)),dtype=float)\n",
    "        std_value = np.empty((len(lat),len(lon)),dtype=float)\n",
    "\n",
    "        for i in np.arange(0,len(lat)):\n",
    "            for j in np.arange(0,len(lon)):\n",
    "\n",
    "                # Calculate linear and exponential fit                                     \n",
    "                if resolution=='high_res' and (np.isnan(delta_mean[(ystart+49)::,i,j]).any()) \\\n",
    "                    or resolution=='low_res'and (np.isnan(delta_mean[ystart::,:,i,j]).any()):\n",
    "                        Beta[i,j]   = np.nan\n",
    "                        R2_lin[i,j] = np.nan\n",
    "                        p_value[i,j] = np.nan\n",
    "                        std_value[i,j] = np.nan\n",
    "                else:\n",
    "                    if resolution=='high_res':                            \n",
    "                        x = gwl_data[ystart::,column].reshape(-1, 1)\n",
    "                        y = delta_mean[(ystart+49)::,i,j].reshape(-1, 1)\n",
    "                    elif resolution=='low_res':\n",
    "                        x = gwl_data[ystart::,:].reshape(-1, 1)\n",
    "                        y = delta_mean[ystart::,:,i,j].reshape(-1, 1)    \n",
    "                    else:\n",
    "                        print('      Check the data resolution, exiting ...')\n",
    "                        sys.exit()  \n",
    "\n",
    "                    Beta[i,j], R2_lin[i,j], rvalue, p_value[i,j], std_value[i,j] = stats.linregress(x[:,0], y[:,0])\n",
    "                    R2_lin[i,j] = rvalue*rvalue\n",
    "\n",
    "        np.savetxt(f'{path2out}/Beta_{varname}_{season}.csv',      Beta,      delimiter =\" \",fmt='%6.2f')\n",
    "        np.savetxt(f'{path2out}/r2lin_{varname}_{season}.csv',     R2_lin,    delimiter =\" \",fmt='%6.2f')\n",
    "        np.savetxt(f'{path2out}/p_value_{varname}_{season}.csv',   p_value,   delimiter =\" \",fmt='%6.5f')\n",
    "        np.savetxt(f'{path2out}/std_value_{varname}_{season}.csv', std_value, delimiter =\" \",fmt='%6.5f')  "
   ]
  }
 ],
 "metadata": {
  "kernelspec": {
   "display_name": "Python 3 (ipykernel)",
   "language": "python",
   "name": "python3"
  },
  "language_info": {
   "codemirror_mode": {
    "name": "ipython",
    "version": 3
   },
   "file_extension": ".py",
   "mimetype": "text/x-python",
   "name": "python",
   "nbconvert_exporter": "python",
   "pygments_lexer": "ipython3",
   "version": "3.10.9"
  }
 },
 "nbformat": 4,
 "nbformat_minor": 5
}
