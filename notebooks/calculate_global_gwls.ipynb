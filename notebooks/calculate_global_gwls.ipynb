{
 "cells": [
  {
   "cell_type": "markdown",
   "id": "7ea0811e-17a2-4428-b94e-c54479da0ee4",
   "metadata": {
    "tags": []
   },
   "source": [
    "# Global mean differences and GWLs"
   ]
  },
  {
   "cell_type": "markdown",
   "id": "7b88199d-eb0e-4730-bb92-9e1e15e2a4bd",
   "metadata": {},
   "source": [
    "This notebook calculates global mean differences of SST and STAS with respect to global mean temperature, and GWL for each of the 26 global climate model"
   ]
  },
  {
   "cell_type": "markdown",
   "id": "63d62a51-a619-418e-8362-70dcf2e3ec7c",
   "metadata": {
    "tags": []
   },
   "source": [
    "Loading libraires:"
   ]
  },
  {
   "cell_type": "code",
   "execution_count": 30,
   "id": "f545dd20-27ab-4ba1-8f51-512acd4c2ccc",
   "metadata": {
    "tags": []
   },
   "outputs": [],
   "source": [
    "import netCDF4 as ncÇ\n",
    "import numpy as np\n",
    "import numpy.ma as ma\n",
    "from scipy import signal\n",
    "import warnings\n",
    "import os"
   ]
  },
  {
   "cell_type": "markdown",
   "id": "c75d85ab-9b83-4908-8578-80546de26543",
   "metadata": {},
   "source": [
    "Ignore warnings:"
   ]
  },
  {
   "cell_type": "code",
   "execution_count": 31,
   "id": "36a7af87-4085-4b54-ac7f-ba83fdb9caef",
   "metadata": {},
   "outputs": [],
   "source": [
    "warnings.filterwarnings(\"ignore\", category=DeprecationWarning) \n",
    "warnings.simplefilter(\"ignore\", category=RuntimeWarning)"
   ]
  },
  {
   "cell_type": "markdown",
   "id": "d70a898a-be32-45f9-b79a-fdf0fafc53e6",
   "metadata": {},
   "source": [
    "Define functions:"
   ]
  },
  {
   "cell_type": "code",
   "execution_count": 32,
   "id": "a55d086b-7e94-44c6-b8b1-6580f7596233",
   "metadata": {
    "tags": []
   },
   "outputs": [],
   "source": [
    "def robust(mean_hist, mean_future, avg_period):\n",
    "    mean_hist_detrend = signal.detrend(np.isnan(mean_hist))\n",
    "    treshold = np.sqrt(2)*1.645*mean_hist_detrend.std()/np.sqrt(avg_period)\n",
    "    if abs(mean_future) > treshold:\n",
    "        data_robust = 1\n",
    "    else:\n",
    "        data_robust = 0\n",
    "    return data_robust\n",
    "\n",
    "# Read strings from a txt file\n",
    "def read_txt(fname, ncolumns, dtype):\n",
    "    fdata   = open(fname)\n",
    "    flines  = np.array(fdata.readlines())\n",
    "    data_in = np.empty([len(flines)])\n",
    "    if dtype == 'string':\n",
    "        data_in = np.empty([len(flines)], dtype=object)\n",
    "    for i in np.arange(len(flines)):\n",
    "        data_in[i]=flines[i].split()[ncolumns-1]      \n",
    "    return(data_in)\n",
    "    fdata.close()\n",
    "    \n",
    "# Read a netcdf file\n",
    "def read_nc(fname, varname, ifmerged):\n",
    "    if ifmerged:\n",
    "        f  = nc.MFDataset(fname)\n",
    "    else:\n",
    "        f  = nc.Dataset(fname)\n",
    "    var    = f.variables[varname]\n",
    "    lon    = f.variables['lon']\n",
    "    lat    = f.variables['lat']\n",
    "    time   = f.variables['time']\n",
    "    dates  = nc.num2date(time[:], time.units, time.calendar)\n",
    "    return var, lon, lat, time, dates"
   ]
  },
  {
   "cell_type": "markdown",
   "id": "0afa93f9-a354-4954-b480-b47d68c09521",
   "metadata": {},
   "source": [
    "Define paths and enviromental variables:"
   ]
  },
  {
   "cell_type": "code",
   "execution_count": 33,
   "id": "b9d01e4e-f17d-4462-9442-7c2d5c3dfab4",
   "metadata": {
    "tags": []
   },
   "outputs": [],
   "source": [
    "# Define paths\n",
    "resolution   = 'low_res'\n",
    "seasons      = ['ANNUAL', 'DJF', 'MAM', 'JJA', 'SON'] \n",
    "varname      = 'tos'    # 'tas' 'stas'\n",
    "avg_period   = 10       # 10, 20, 30\n",
    "ssps         = ['ssp126', 'ssp245', 'ssp370', 'ssp585']\n",
    "gwls         = [1.5, 2, 3, 4]\n",
    "ref_ntimes   = 51 \n",
    "ystart_to_plot  = 2010\n",
    "member_names = f'models_{resolution}.txt'\n",
    "root = '..'\n",
    "path2info  = f'{root}/data/data_info/' # path to files provifing info on e.g. model names or regins"
   ]
  },
  {
   "cell_type": "markdown",
   "id": "6fa8cc38-7a46-4ee3-9295-23eed88709a9",
   "metadata": {},
   "source": [
    "Read list of the models to be processed:"
   ]
  },
  {
   "cell_type": "code",
   "execution_count": 34,
   "id": "c53aa537-a174-46cf-ba3a-1691972cf935",
   "metadata": {
    "tags": []
   },
   "outputs": [],
   "source": [
    "member_list = f'{path2info}/{member_names}'\n",
    "members  = read_txt(member_list, 1, 'string')\n",
    "nmembers = len(members)"
   ]
  },
  {
   "cell_type": "markdown",
   "id": "662b1e55-a886-4693-b150-58d560ff2d36",
   "metadata": {
    "tags": []
   },
   "source": [
    "Main code:"
   ]
  },
  {
   "cell_type": "code",
   "execution_count": null,
   "id": "811a4c8b-161b-4ae4-b82a-43580956788a",
   "metadata": {
    "tags": []
   },
   "outputs": [],
   "source": [
    "# Loop over seasons\n",
    "for season in seasons: \n",
    "    print(\"Working on the season: \" + season)\n",
    "    path2data   = f'{root}/data/data_raw/{resolution}/{varname}/'\n",
    "    path2out    = f'{root}/data/data_txt/{resolution}/global/{varname}_test/'\n",
    "\n",
    "    if not os.path.exists(path2out):\n",
    "        os.makedirs(path2out) \n",
    "    \n",
    "    # Loop over ssp scenarion\n",
    "    for ssp in ssps:\n",
    "        \n",
    "        # Load files\n",
    "        print(\"  Working on the ssp: \" + ssp)\n",
    "        fname = [f'{path2data}/CMIP6_historical_{varname}_{season}.nc',\n",
    "                 f'{path2data}/CMIP6_{ssp}_{varname}_{season}.nc']\n",
    "        \n",
    "        var, lon, lat, time, dates_all = read_nc(fname, varname, True)\n",
    "        \n",
    "        # Load projection times\n",
    "        years_all  = [date.year for date in dates_all]\n",
    "        ntimes_all = len(years_all)\n",
    "\n",
    "        # Define reference period - from 1850-1900\n",
    "        dates_ref  = dates_all[0:ref_ntimes]\n",
    "        ntimes_ref = len(dates_ref)\n",
    "\n",
    "        # Define analysys period\n",
    "        dates  = dates_all[ref_ntimes:]\n",
    "        ntimes = len(dates)\n",
    "\n",
    "        # Read years and months for the period of anlysys\n",
    "        dyears = [date.year for date in dates]\n",
    "\n",
    "        # Define start and year for tickmarks\n",
    "        year_start = int(dyears[0] + avg_period / 2 )\n",
    "        year_end = int(dyears[ntimes-1] - avg_period / 2 + 1 )\n",
    "        years = np.arange(year_start, year_end, 10)\n",
    "\n",
    "        # Calculate historical mean\n",
    "        print(\"    Calculating the historical mean ...\")\n",
    "        ref_mean = np.nanmean(var[0:ref_ntimes, :, :, :], axis=(0)) # not weighted\n",
    "        mask = ma.masked_invalid(ref_mean[:]).mask\n",
    "\n",
    "        # Calculate weights\n",
    "        xx, yy  = np.meshgrid(lon, lat)\n",
    "        weights = np.cos(np.deg2rad(yy))\n",
    "        weights_masked = ma.masked_array(weights, mask[0,:,:])\n",
    "\n",
    "        # Calculate running mean\n",
    "        print(\"    Calculating the running mean ...\")\n",
    "        run_ntimes = int(ntimes_all - avg_period - ref_ntimes + 1)        \n",
    "        diff_mean = np.empty([run_ntimes , nmembers])\n",
    "\n",
    "        for t in np.arange(0, run_ntimes):\n",
    "            it = t + ref_ntimes\n",
    "            diff_2D_mean       = np.nanmean(var[it:(it + avg_period-1), :, :, :], axis=(0)) - ref_mean\n",
    "            diff_2D_weghted    = diff_2D_mean*weights_masked/np.nanmean(weights_masked)\n",
    "            diff_mean[t, :] = np.round(np.nanmean(diff_2D_weghted, axis=(1,2)),3)\n",
    "            \n",
    "\n",
    "        # Check the robustenss of the signal\n",
    "        ifrobust = np.empty([run_ntimes])\n",
    "        robustness = np.empty([run_ntimes, nmembers])\n",
    "\n",
    "        for i in range(run_ntimes):\n",
    "            plus  = 100.*float(np.count_nonzero(diff_mean[i,:] >= 0))/float(nmembers)\n",
    "            minus = 100.*float(np.count_nonzero(diff_mean[i,:] < 0))/float(nmembers)\n",
    "\n",
    "            for j in range(nmembers):\n",
    "                robustness[i,j]=robust(ref_mean[:,j], diff_mean[i,j], avg_period)\n",
    "                if (100.*float(np.count_nonzero(robustness[i,:] == 1.))/float(nmembers)) >= 66. and max(plus,minus) >= 80.:\n",
    "                    ifrobust[i]=1.\n",
    "                elif (100.*float(np.count_nonzero(robustness[i,:] == 1.))/float(nmembers)) >= 66. and max(plus,minus) < 80.:\n",
    "                    ifrobust[i]=2.\n",
    "                else:\n",
    "                    ifrobust[i]=0.\n",
    "\n",
    "\n",
    "        # Define when a gwl reached\n",
    "        indx_gwls = np.empty([nmembers, len(gwls)])\n",
    "        year_gwls = np.empty([nmembers, len(gwls)])\n",
    "        for i in np.arange(0, nmembers):\n",
    "            for j in np.arange(0, len(gwls)):\n",
    "                indx_gwls[i,j] = np.argmax(diff_mean[:, i] > gwls[j])\n",
    "                if indx_gwls[i,j] == 0:\n",
    "                    year_gwls[i,j] = np.nan\n",
    "                else:\n",
    "                    year_gwls[i,j] = float(dyears[int(indx_gwls[i,j])]+int(avg_period/2-1))\n",
    "\n",
    "                    f'{path2out}/Beta_{varname}_{season}.csv'\n",
    "\n",
    "        # Save running mean, gwls, and info on robustens in txt files\n",
    "        output = f'{varname}_{ssp}_{season}' \n",
    "        np.savetxt(f'{path2out}/{output}.csv', diff_mean, fmt='%10.3f')\n",
    "        np.savetxt(f'{path2out}/{output}_gwls.csv', year_gwls, fmt='%10.0f')\n",
    "        np.savetxt(f'{path2out}/ifrobust_{output}.csv', ifrobust, fmt='%10.0f')"
   ]
  }
 ],
 "metadata": {
  "kernelspec": {
   "display_name": "Python 3 (ipykernel)",
   "language": "python",
   "name": "python3"
  },
  "language_info": {
   "codemirror_mode": {
    "name": "ipython",
    "version": 3
   },
   "file_extension": ".py",
   "mimetype": "text/x-python",
   "name": "python",
   "nbconvert_exporter": "python",
   "pygments_lexer": "ipython3",
   "version": "3.10.9"
  }
 },
 "nbformat": 4,
 "nbformat_minor": 5
}
