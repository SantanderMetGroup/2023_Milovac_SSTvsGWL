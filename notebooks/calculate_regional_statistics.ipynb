{
 "cells": [
  {
   "cell_type": "markdown",
   "id": "2f2c6135-0edb-4772-881c-2fe510a81287",
   "metadata": {},
   "source": [
    "# Correlation statistics for regional variables"
   ]
  },
  {
   "cell_type": "markdown",
   "id": "d1772fb1-ab98-40b8-abb0-8ddbf27cf71d",
   "metadata": {
    "tags": []
   },
   "source": [
    "This notebook calculates slope, p value, standard deviation of the slope, and correlation coefficients for the linear and exponential fit"
   ]
  },
  {
   "cell_type": "markdown",
   "id": "e6d1f097-a285-4afd-8165-86280d3ee36a",
   "metadata": {},
   "source": [
    "Loading libraires:"
   ]
  },
  {
   "cell_type": "code",
   "execution_count": 5,
   "id": "75de65b1-d396-4130-85a8-a68919197aa3",
   "metadata": {
    "tags": []
   },
   "outputs": [],
   "source": [
    "import netCDF4 as nc\n",
    "import numpy as np\n",
    "import numpy.ma as ma\n",
    "import matplotlib.pyplot as plt\n",
    "from matplotlib import cm\n",
    "from scipy.optimize import curve_fit\n",
    "from scipy import stats\n",
    "import os"
   ]
  },
  {
   "cell_type": "markdown",
   "id": "8a7d93a9-784e-4b85-85a4-6b9c29442de5",
   "metadata": {},
   "source": [
    "Define functions:"
   ]
  },
  {
   "cell_type": "code",
   "execution_count": 6,
   "id": "582a9aa4-169f-4e28-beb6-65d5f2232b13",
   "metadata": {
    "tags": []
   },
   "outputs": [],
   "source": [
    "def read_txt(fname, ncolumns, dtype):\n",
    "    fdata   = open(fname)\n",
    "    flines  = np.array(fdata.readlines())\n",
    "    data_in = np.empty([len(flines)])\n",
    "    if dtype == 'string':\n",
    "        data_in = np.empty([len(flines)], dtype=object)\n",
    "    for i in np.arange(len(flines)):\n",
    "        data_in[i]=flines[i].split()[ncolumns-1]      \n",
    "    return(data_in)\n",
    "    fdata.close()\n",
    "    \n",
    "# Define functions\n",
    "def read_data(fname, ncolumns):\n",
    "    if ncolumns > 1:\n",
    "        fdata   = open(fname)\n",
    "        flines  = np.array(fdata.readlines())\n",
    "        data_in = np.empty([len(flines), ncolumns])\n",
    "        for i in np.arange(len(flines)):\n",
    "            data_in[i,:]=flines[i].split()\n",
    "    else:\n",
    "        with open(fname) as flist:\n",
    "            data_in = np.array(flist.readlines())        \n",
    "    return(data_in)\n",
    "    fdata.close()\n",
    "\n",
    "def read_nc(fname, varname, ifmerged):\n",
    "    if ifmerged:\n",
    "        f  = nc.MFDataset(fname)\n",
    "    else:\n",
    "        f  = nc.Dataset(fname)\n",
    "    var    = f.variables[varname]\n",
    "    lon    = f.variables['lon']\n",
    "    lat    = f.variables['lat']\n",
    "    time   = f.variables['time']\n",
    "    dates  = nc.num2date(time[:], time.units, time.calendar)\n",
    "    return var, lon, lat, time, dates\n",
    "\n",
    "def read_mask(fname, varname):\n",
    "    f = nc.Dataset(fname)\n",
    "    var  = f.variables[varname][:]\n",
    "    return var"
   ]
  },
  {
   "cell_type": "markdown",
   "id": "9c31aa58-113d-465d-a6ae-028fb0bf6189",
   "metadata": {},
   "source": [
    "Define enviromental variables and paths:"
   ]
  },
  {
   "cell_type": "code",
   "execution_count": 19,
   "id": "8dd9c80b-220e-4c1e-b3af-41cbe6924619",
   "metadata": {
    "tags": []
   },
   "outputs": [],
   "source": [
    "resolution   = 'low_res'\n",
    "seasons      = ['ANNUAL', 'DJF', 'MAM', 'JJA', 'SON'] \n",
    "mask_file    = 'regions.nc' # 'biomes_mask.nc' 'regions.nc'\n",
    "member_names = f'models_{resolution}.txt'\n",
    "varname      = 'stas' # tas tos\n",
    "ssps         = ['ssp126', 'ssp245', 'ssp370', 'ssp585']\n",
    "nssps        = len(ssps)\n",
    "ref_ntimes   = 51\n",
    "ystart_to_plot  = 2010\n",
    "ystart = int(ystart_to_plot - 1950)\n",
    "\n",
    "root = '..'\n",
    "path2data = f'{root}/data/data_txt/'  \n",
    "path2info  = f'{root}/data/data_info/'"
   ]
  },
  {
   "cell_type": "markdown",
   "id": "f7e82128-0242-4424-bb37-c0f9c5f8d59e",
   "metadata": {},
   "source": [
    "Define mask variable for corresponding masks:"
   ]
  },
  {
   "cell_type": "code",
   "execution_count": 20,
   "id": "99c4f175-0ee4-4406-b973-da65c3929ae2",
   "metadata": {
    "tags": []
   },
   "outputs": [],
   "source": [
    "if mask_file == 'biomes_mask.nc':\n",
    "    maskvar = 'sftlf'\n",
    "    mask_values  = [0,1,2,3,4,5,6,7,8,9,10]         \n",
    "    dirname = 'biomes_regs'\n",
    "    \n",
    "elif mask_file == 'regions.nc':\n",
    "    maskvar = 'regionID'\n",
    "    mask_values  = [20,47,48,49,50,51,52,53,54,55,56,57,58]      \n",
    "    dirname = 'ipcc_regs'\n",
    "    \n",
    "nregions = len(mask_values)"
   ]
  },
  {
   "cell_type": "markdown",
   "id": "2f6538ad-aa6f-4081-8175-0cc8406fbc0d",
   "metadata": {},
   "source": [
    "Read list of the models to be processed:"
   ]
  },
  {
   "cell_type": "code",
   "execution_count": 21,
   "id": "fef4bb2c-cc84-4c5a-a6e7-857db251177f",
   "metadata": {
    "tags": []
   },
   "outputs": [],
   "source": [
    "member_list = f'{path2info}/{member_names}'\n",
    "members  = read_txt(member_list, 1, 'string')\n",
    "nmembers = len(members)"
   ]
  },
  {
   "cell_type": "markdown",
   "id": "acbbb28f-33a4-41aa-8f02-061ed3e3bb9c",
   "metadata": {},
   "source": [
    "Read list the names of the regions of to be processed:"
   ]
  },
  {
   "cell_type": "code",
   "execution_count": 22,
   "id": "51cba76b-ddb8-4663-a4be-3d46215bdb63",
   "metadata": {
    "tags": []
   },
   "outputs": [],
   "source": [
    "regions_list = f'{path2info}/{dirname}.txt'\n",
    "reg_names  = read_txt(regions_list, 2, 'string')\n",
    "nregions = len(reg_names)"
   ]
  },
  {
   "cell_type": "markdown",
   "id": "5d7d2275-bc94-4c73-92d7-6c718b7f5869",
   "metadata": {
    "tags": []
   },
   "source": [
    "Main code:"
   ]
  },
  {
   "cell_type": "code",
   "execution_count": null,
   "id": "2aa0e5b6-5e4d-46d7-8f56-cd758bde89c9",
   "metadata": {
    "tags": []
   },
   "outputs": [],
   "source": [
    "# Loop over seasons\n",
    "for season in seasons:\n",
    "        print(f'Working on the season: {season}')\n",
    "\n",
    "        Beta   = np.empty((nregions, nssps),dtype=float)\n",
    "        R2_lin = np.empty((nregions, nssps),dtype=float)\n",
    "        R2_exp = np.empty((nregions, nssps),dtype=float)\n",
    "        p_value = np.empty((nregions, nssps),dtype=float)\n",
    "        std_value = np.empty((nregions, nssps),dtype=float)\n",
    "\n",
    "        for s in np.arange(nssps):\n",
    "            ssp = ssps[s]\n",
    "            print(\"        Working on the ssp: \" + ssp)          \n",
    "\n",
    "            # Read reference data\n",
    "            ref_fname = f'{path2data}/{resolution}/global/tas/ANNUAL/tas_{ssp}_{season}.csv'\n",
    "            ref_data = read_data(ref_fname, nmembers)\n",
    "\n",
    "            # Define size of the panel plot\n",
    "            for r in np.arange(nregions):\n",
    "                region=mask_values[r]\n",
    "                reg_name=reg_names[r]  \n",
    "\n",
    "                dirpath  = f'{resolution}/regional/{dirname}/{varname}/{season}' \n",
    "                filename = f'{varname}_{ssp}_reg{region}_{season}'\n",
    "                infile   = f'{path2data}/{dirpath}/{filename}.csv'\n",
    "                data     = read_data(infile, nmembers)\n",
    "\n",
    "                # Calculate and plot linreadear fit                   \n",
    "                x = ref_data[ystart::,:].reshape(-1, 1)\n",
    "                y = data[ystart::,:].reshape(-1, 1)\n",
    "                Beta[r,s], intercept, rvalue, p_value[r,s], std_value[r,s] = stats.linregress(x[:,0], y[:,0])\n",
    "                R2_lin[r,s] = rvalue*rvalue  \n",
    "\n",
    "                # Calculate and plot exponential fit\n",
    "                def func(x, a, b): return a * np.exp(b * x)\n",
    "                popt, pcov = curve_fit(func, x[:,0], y[:,0])     # a = popt[0], b = popt[1]\n",
    "                x_fitted = np.linspace(np.min(x[:]), np.max(x[:]), 100)\n",
    "                y_fitted = func(x_fitted, *popt)                 #a * np.exp(b * x_fitted)\n",
    "\n",
    "                # Calculate R2 for the exponential fit\n",
    "                residuals = y[:,0] - func(x[:,0], *popt)\n",
    "                res = np.sum(residuals**2)\n",
    "                tot = np.sum((y[:,0]-np.mean(y[:,0]))**2)\n",
    "                R2_exp[r,s] = 1 - (res / tot)\n",
    "\n",
    "        # Save statistical info in a txt file\n",
    "        print(\"    Saving the data in the output file.\")\n",
    "        path2out  = f'{path2data}/{resolution}/regional/{dirname}/{varname}/{season}'\n",
    "        if not os.path.exists(path2out):\n",
    "            os.makedirs(path2out)            \n",
    "\n",
    "        np.savetxt(f'{path2out}/Beta_{varname}_{season}.csv',      Beta,      delimiter =\" \",fmt='%6.2f')\n",
    "        np.savetxt(f'{path2out}/R2lin_{varname}_{season}.csv',     R2_lin,    delimiter =\" \",fmt='%6.2f')\n",
    "        np.savetxt(f'{path2out}/R2exp_{varname}_{season}.csv',     R2_exp,    delimiter =\" \",fmt='%6.2f')\n",
    "        np.savetxt(f'{path2out}/p_value_{varname}_{season}.csv',   p_value,   delimiter =\" \",fmt='%6.5f')\n",
    "        np.savetxt(f'{path2out}/std_value_{varname}_{season}.csv', std_value, delimiter =\" \",fmt='%6.5f')"
   ]
  }
 ],
 "metadata": {
  "kernelspec": {
   "display_name": "Python 3 (ipykernel)",
   "language": "python",
   "name": "python3"
  },
  "language_info": {
   "codemirror_mode": {
    "name": "ipython",
    "version": 3
   },
   "file_extension": ".py",
   "mimetype": "text/x-python",
   "name": "python",
   "nbconvert_exporter": "python",
   "pygments_lexer": "ipython3",
   "version": "3.10.9"
  }
 },
 "nbformat": 4,
 "nbformat_minor": 5
}
